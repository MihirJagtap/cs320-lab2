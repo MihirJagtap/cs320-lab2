{
  "cells": [
    {
      "cell_type": "markdown",
      "metadata": {
        "id": "view-in-github",
        "colab_type": "text"
      },
      "source": [
        "<a href=\"https://colab.research.google.com/github/MihirJagtap/cs320-lab2/blob/main/(colab_env)_newtest.ipynb\" target=\"_parent\"><img src=\"https://colab.research.google.com/assets/colab-badge.svg\" alt=\"Open In Colab\"/></a>"
      ]
    },
    {
      "cell_type": "markdown",
      "metadata": {
        "id": "XV4c7VkmgPLJ"
      },
      "source": [
        "**PREREQ INFORMATION**:\n",
        "\n",
        "1 This is the colab environment version of the google colab and the full code will need to be reinitiated after every colab reset.\n",
        "\n",
        "2 I highly recommend changing the size of the data csv file. In my example I used carbon and removed a lot of samples to lower runtime for the train command.\n",
        "\n",
        "3 change the code to work based off your environment.\n",
        "\n",
        "4 make sure the runtime is set to gpu or else the train code will not work. If you are out of units, then thre isn't much of a solution right now\n",
        "\n",
        "5 Work in progress and this only goes up to the training code.\n",
        "\n",
        "6 if there are any questions or issues just msg me on slack\n",
        "\n",
        "-Jian Zhou\n"
      ]
    },
    {
      "cell_type": "markdown",
      "metadata": {
        "id": "Q9tl-3UWXPfB"
      },
      "source": [
        "Linking Google drive"
      ]
    },
    {
      "cell_type": "code",
      "execution_count": null,
      "metadata": {
        "colab": {
          "base_uri": "https://localhost:8080/"
        },
        "id": "09e_A0KzX2ix",
        "outputId": "b773e580-c8e6-4745-dede-700550558945"
      },
      "outputs": [
        {
          "output_type": "stream",
          "name": "stdout",
          "text": [
            "Mounted at /content/gdrive\n"
          ]
        }
      ],
      "source": [
        "from google.colab import drive\n",
        "drive.mount('/content/gdrive')"
      ]
    },
    {
      "cell_type": "markdown",
      "metadata": {
        "id": "oIPG7HUHXLYU"
      },
      "source": [
        "Installing and and importing conda"
      ]
    },
    {
      "cell_type": "code",
      "execution_count": null,
      "metadata": {
        "colab": {
          "base_uri": "https://localhost:8080/"
        },
        "id": "5VAgcReKYyi5",
        "outputId": "dea8871e-b45f-4dbb-fdbc-ffa39c9b705d"
      },
      "outputs": [
        {
          "output_type": "stream",
          "name": "stdout",
          "text": [
            "\u001b[33mWARNING: Running pip as the 'root' user can result in broken permissions and conflicting behaviour with the system package manager. It is recommended to use a virtual environment instead: https://pip.pypa.io/warnings/venv\u001b[0m\u001b[33m\n",
            "\u001b[0m✨🍰✨ Everything looks OK!\n"
          ]
        }
      ],
      "source": [
        "!pip install -q condacolab\n",
        "import condacolab\n",
        "condacolab.install() # expect a kernel restart"
      ]
    },
    {
      "cell_type": "markdown",
      "metadata": {
        "id": "miggzwv1XEXi"
      },
      "source": [
        "Code recieved from github, with minor edits to fit google colab and file locations (~40 minutes - 1hr and 20 minutes)"
      ]
    },
    {
      "cell_type": "code",
      "execution_count": null,
      "metadata": {
        "colab": {
          "base_uri": "https://localhost:8080/"
        },
        "id": "4pQb2BMVY_8C",
        "outputId": "161d4d40-3067-4381-9ae4-a1649feb8867"
      },
      "outputs": [
        {
          "output_type": "stream",
          "name": "stdout",
          "text": [
            "\n",
            "EnvironmentFileExtensionNotValid: 'https://drive.google.com/file/d/1J7IBHMXctP9sspUUb2_7HNI0zQffnN3w/view?usp=drive_link' file extension must be one of '.txt', '.yaml' or '.yml'\n",
            "\n"
          ]
        }
      ],
      "source": [
        "!conda env create -f /content/gdrive/MyDrive/Informatics_Skunkworks/CDVAE/env_sub.yml https://drive.google.com/file/d/1J7IBHMXctP9sspUUb2_7HNI0zQffnN3w/view?usp=drive_link  && \\\n",
        "source activate cdvae && \\\n",
        "conda install ipywidgets jupyterlab matplotlib pylint && \\\n",
        "conda install -c conda-forge matminer=0.7.3 nglview pymatgen=2020.12.31 && \\\n",
        "python3 -m pip install setuptools==59.5.0 && \\\n",
        "pip install -e /content/gdrive/MyDrive/Informatics_Skunkworks/CDVAE"
      ]
    },
    {
      "cell_type": "markdown",
      "metadata": {
        "id": "KRZG5AL4Xe-V"
      },
      "source": [
        "used to check versions of packages b/c many of the packages used are too up to date and do not work correctly."
      ]
    },
    {
      "cell_type": "code",
      "execution_count": null,
      "metadata": {
        "colab": {
          "base_uri": "https://localhost:8080/"
        },
        "id": "xdZkGk217T30",
        "outputId": "fb067afd-a172-45e8-ce51-bc67852b015a"
      },
      "outputs": [
        {
          "output_type": "stream",
          "name": "stdout",
          "text": [
            "Name: torch-cluster\n",
            "Version: 1.6.1\n",
            "Summary: PyTorch Extension Library of Optimized Graph Cluster Algorithms\n",
            "Home-page: https://github.com/rusty1s/pytorch_cluster\n",
            "Author: Matthias Fey\n",
            "Author-email: matthias.fey@tu-dortmund.de\n",
            "License: \n",
            "Location: /usr/local/envs/cdvae/lib/python3.8/site-packages\n",
            "Requires: scipy\n",
            "Required-by: \n"
          ]
        }
      ],
      "source": [
        "!source activate cdvae && pip show torch-cluster"
      ]
    },
    {
      "cell_type": "markdown",
      "metadata": {
        "id": "du1TQsLnXXwv"
      },
      "source": [
        "First of a few downgrades in certain dependencies that did not work. fixed error relating to `ImportError: cannot import name 'get_num_classes' from 'torchmetrics.utilities.data` (~2 minutes)"
      ]
    },
    {
      "cell_type": "code",
      "execution_count": null,
      "metadata": {
        "colab": {
          "base_uri": "https://localhost:8080/"
        },
        "id": "uVuvCGfc4fOL",
        "outputId": "d935080e-c472-4ad2-e310-bdf486d69d2b"
      },
      "outputs": [
        {
          "output_type": "stream",
          "name": "stdout",
          "text": [
            "Looking in indexes: https://pypi.org/simple, https://us-python.pkg.dev/colab-wheels/public/simple/\n",
            "Collecting torchmetrics==0.6\n",
            "  Downloading torchmetrics-0.6.0-py3-none-any.whl (329 kB)\n",
            "\u001b[2K     \u001b[90m━━━━━━━━━━━━━━━━━━━━━━━━━━━━━━━━━━━━━━\u001b[0m \u001b[32m329.4/329.4 kB\u001b[0m \u001b[31m10.8 MB/s\u001b[0m eta \u001b[36m0:00:00\u001b[0m\n",
            "\u001b[?25hRequirement already satisfied: numpy>=1.17.2 in /usr/local/envs/cdvae/lib/python3.8/site-packages (from torchmetrics==0.6) (1.24.3)\n",
            "Requirement already satisfied: torch>=1.3.1 in /usr/local/envs/cdvae/lib/python3.8/site-packages (from torchmetrics==0.6) (1.9.0)\n",
            "Requirement already satisfied: packaging in /usr/local/envs/cdvae/lib/python3.8/site-packages (from torchmetrics==0.6) (23.1)\n",
            "Requirement already satisfied: typing_extensions in /usr/local/envs/cdvae/lib/python3.8/site-packages (from torch>=1.3.1->torchmetrics==0.6) (4.6.3)\n",
            "Installing collected packages: torchmetrics\n",
            "  Attempting uninstall: torchmetrics\n",
            "    Found existing installation: torchmetrics 0.11.4\n",
            "    Uninstalling torchmetrics-0.11.4:\n",
            "      Successfully uninstalled torchmetrics-0.11.4\n",
            "Successfully installed torchmetrics-0.6.0\n",
            "\u001b[33mWARNING: Running pip as the 'root' user can result in broken permissions and conflicting behaviour with the system package manager. It is recommended to use a virtual environment instead: https://pip.pypa.io/warnings/venv\u001b[0m\u001b[33m\n",
            "\u001b[0m"
          ]
        }
      ],
      "source": [
        "!source activate cdvae && pip install torchmetrics==0.6\n",
        "#Torchmetrics was not correct (I forgot :))"
      ]
    },
    {
      "cell_type": "markdown",
      "metadata": {
        "id": "SU7ADHefYPLY"
      },
      "source": [
        "Downgrade b/c `AttributeError: Error instantiating 'cdvae.pl_data.dataset.CrystDataset' : module 'numpy' has no attribute 'int'` This error was because of the removal of a feature in later versions of numPy (~2 minutes)"
      ]
    },
    {
      "cell_type": "code",
      "execution_count": null,
      "metadata": {
        "colab": {
          "base_uri": "https://localhost:8080/"
        },
        "id": "Jq_RdrgpJI1D",
        "outputId": "da3f535d-b6bc-4e17-f47b-c5defa47f612"
      },
      "outputs": [
        {
          "output_type": "stream",
          "name": "stdout",
          "text": [
            "Looking in indexes: https://pypi.org/simple, https://us-python.pkg.dev/colab-wheels/public/simple/\n",
            "Collecting numPy<1.24.0\n",
            "  Downloading numpy-1.23.5-cp38-cp38-manylinux_2_17_x86_64.manylinux2014_x86_64.whl (17.1 MB)\n",
            "\u001b[2K     \u001b[90m━━━━━━━━━━━━━━━━━━━━━━━━━━━━━━━━━━━━━━━━\u001b[0m \u001b[32m17.1/17.1 MB\u001b[0m \u001b[31m29.2 MB/s\u001b[0m eta \u001b[36m0:00:00\u001b[0m\n",
            "\u001b[?25hInstalling collected packages: numPy\n",
            "  Attempting uninstall: numPy\n",
            "    Found existing installation: numpy 1.24.3\n",
            "    Uninstalling numpy-1.24.3:\n",
            "      Successfully uninstalled numpy-1.24.3\n",
            "\u001b[31mERROR: pip's dependency resolver does not currently take into account all the packages that are installed. This behaviour is the source of the following dependency conflicts.\n",
            "matminer 0.7.3 requires pymatgen>=2022.0.8, but you have pymatgen 2020.12.31 which is incompatible.\u001b[0m\u001b[31m\n",
            "\u001b[0mSuccessfully installed numPy-1.23.5\n",
            "\u001b[33mWARNING: Running pip as the 'root' user can result in broken permissions and conflicting behaviour with the system package manager. It is recommended to use a virtual environment instead: https://pip.pypa.io/warnings/venv\u001b[0m\u001b[33m\n",
            "\u001b[0m"
          ]
        }
      ],
      "source": [
        "!source activate cdvae && pip install \"numPy<1.24.0\"\n",
        "#numPy was == 1.24.3"
      ]
    },
    {
      "cell_type": "markdown",
      "metadata": {
        "id": "v3hGnYLp73mv"
      },
      "source": [
        "Downgrade b/c of `union` issue (~5 - 15 minutes)"
      ]
    },
    {
      "cell_type": "code",
      "execution_count": null,
      "metadata": {
        "colab": {
          "base_uri": "https://localhost:8080/"
        },
        "id": "gkqcO6uZb1OE",
        "outputId": "6487736f-56aa-43b4-a7f3-37a5028e72f6"
      },
      "outputs": [
        {
          "output_type": "stream",
          "name": "stdout",
          "text": [
            "Looking in indexes: https://pypi.org/simple, https://us-python.pkg.dev/colab-wheels/public/simple/\n",
            "Looking in links: https://data.pyg.org/whl/torch-1.9.0+cu102.html\n",
            "Collecting torch-cluster==1.5.9\n",
            "  Downloading https://data.pyg.org/whl/torch-1.9.0%2Bcu102/torch_cluster-1.5.9-cp38-cp38-linux_x86_64.whl (1.4 MB)\n",
            "\u001b[2K     \u001b[90m━━━━━━━━━━━━━━━━━━━━━━━━━━━━━━━━━━━━━━━━\u001b[0m \u001b[32m1.4/1.4 MB\u001b[0m \u001b[31m9.7 MB/s\u001b[0m eta \u001b[36m0:00:00\u001b[0m\n",
            "\u001b[?25hInstalling collected packages: torch-cluster\n",
            "  Attempting uninstall: torch-cluster\n",
            "    Found existing installation: torch-cluster 1.6.1\n",
            "    Uninstalling torch-cluster-1.6.1:\n",
            "      Successfully uninstalled torch-cluster-1.6.1\n",
            "Successfully installed torch-cluster-1.5.9\n",
            "\u001b[33mWARNING: Running pip as the 'root' user can result in broken permissions and conflicting behaviour with the system package manager. It is recommended to use a virtual environment instead: https://pip.pypa.io/warnings/venv\u001b[0m\u001b[33m\n",
            "\u001b[0m"
          ]
        }
      ],
      "source": [
        "!source activate cdvae && pip install torch-cluster==1.5.9 -f https://data.pyg.org/whl/torch-1.9.0+cu102.html"
      ]
    },
    {
      "cell_type": "markdown",
      "metadata": {
        "id": "ALM1-RjzX9Y8"
      },
      "source": [
        "Downgrade to fix issue relating to `object has no attribute sparse_csc_tensor` regarding sparse. The additions are issues related to `cuda` version (~5-25 minutes)"
      ]
    },
    {
      "cell_type": "code",
      "execution_count": null,
      "metadata": {
        "colab": {
          "base_uri": "https://localhost:8080/"
        },
        "id": "n0g0hyGqE2o9",
        "outputId": "1e1c88e9-7b20-462e-d2c3-4fafb8904b9c"
      },
      "outputs": [
        {
          "output_type": "stream",
          "name": "stdout",
          "text": [
            "Looking in indexes: https://pypi.org/simple, https://us-python.pkg.dev/colab-wheels/public/simple/\n",
            "Looking in links: https://data.pyg.org/whl/torch-1.9.0+cu102.html\n",
            "Collecting torch-sparse==0.6.12\n",
            "  Downloading https://data.pyg.org/whl/torch-1.9.0%2Bcu102/torch_sparse-0.6.12-cp38-cp38-linux_x86_64.whl (2.9 MB)\n",
            "\u001b[2K     \u001b[90m━━━━━━━━━━━━━━━━━━━━━━━━━━━━━━━━━━━━━━━━\u001b[0m \u001b[32m2.9/2.9 MB\u001b[0m \u001b[31m16.6 MB/s\u001b[0m eta \u001b[36m0:00:00\u001b[0m\n",
            "\u001b[?25hRequirement already satisfied: scipy in /usr/local/envs/cdvae/lib/python3.8/site-packages (from torch-sparse==0.6.12) (1.10.1)\n",
            "Requirement already satisfied: numpy<1.27.0,>=1.19.5 in /usr/local/envs/cdvae/lib/python3.8/site-packages (from scipy->torch-sparse==0.6.12) (1.23.5)\n",
            "Installing collected packages: torch-sparse\n",
            "  Attempting uninstall: torch-sparse\n",
            "    Found existing installation: torch-sparse 0.6.17\n",
            "    Uninstalling torch-sparse-0.6.17:\n",
            "      Successfully uninstalled torch-sparse-0.6.17\n",
            "Successfully installed torch-sparse-0.6.12\n",
            "\u001b[33mWARNING: Running pip as the 'root' user can result in broken permissions and conflicting behaviour with the system package manager. It is recommended to use a virtual environment instead: https://pip.pypa.io/warnings/venv\u001b[0m\u001b[33m\n",
            "\u001b[0mLooking in indexes: https://pypi.org/simple, https://us-python.pkg.dev/colab-wheels/public/simple/\n",
            "Looking in links: https://data.pyg.org/whl/torch-1.9.0+cu102.html\n",
            "Collecting torch-spline-conv==1.2.1\n",
            "  Downloading https://data.pyg.org/whl/torch-1.9.0%2Bcu102/torch_spline_conv-1.2.1-cp38-cp38-linux_x86_64.whl (677 kB)\n",
            "\u001b[2K     \u001b[90m━━━━━━━━━━━━━━━━━━━━━━━━━━━━━━━━━━━━━━━\u001b[0m \u001b[32m677.9/677.9 kB\u001b[0m \u001b[31m5.8 MB/s\u001b[0m eta \u001b[36m0:00:00\u001b[0m\n",
            "\u001b[?25hInstalling collected packages: torch-spline-conv\n",
            "  Attempting uninstall: torch-spline-conv\n",
            "    Found existing installation: torch-spline-conv 1.2.2\n",
            "    Uninstalling torch-spline-conv-1.2.2:\n",
            "      Successfully uninstalled torch-spline-conv-1.2.2\n",
            "Successfully installed torch-spline-conv-1.2.1\n",
            "\u001b[33mWARNING: Running pip as the 'root' user can result in broken permissions and conflicting behaviour with the system package manager. It is recommended to use a virtual environment instead: https://pip.pypa.io/warnings/venv\u001b[0m\u001b[33m\n",
            "\u001b[0mLooking in indexes: https://pypi.org/simple, https://us-python.pkg.dev/colab-wheels/public/simple/\n",
            "Looking in links: https://data.pyg.org/whl/torch-1.9.0+cu102.html\n",
            "Collecting torch-scatter==2.0.9\n",
            "  Downloading https://data.pyg.org/whl/torch-1.9.0%2Bcu102/torch_scatter-2.0.9-cp38-cp38-linux_x86_64.whl (8.0 MB)\n",
            "\u001b[2K     \u001b[90m━━━━━━━━━━━━━━━━━━━━━━━━━━━━━━━━━━━━━━━━\u001b[0m \u001b[32m8.0/8.0 MB\u001b[0m \u001b[31m32.1 MB/s\u001b[0m eta \u001b[36m0:00:00\u001b[0m\n",
            "\u001b[?25hInstalling collected packages: torch-scatter\n",
            "  Attempting uninstall: torch-scatter\n",
            "    Found existing installation: torch-scatter 2.1.1\n",
            "    Uninstalling torch-scatter-2.1.1:\n",
            "      Successfully uninstalled torch-scatter-2.1.1\n",
            "Successfully installed torch-scatter-2.0.9\n",
            "\u001b[33mWARNING: Running pip as the 'root' user can result in broken permissions and conflicting behaviour with the system package manager. It is recommended to use a virtual environment instead: https://pip.pypa.io/warnings/venv\u001b[0m\u001b[33m\n",
            "\u001b[0m"
          ]
        }
      ],
      "source": [
        "!source activate cdvae && pip install torch-sparse==0.6.12  -f https://data.pyg.org/whl/torch-1.9.0+cu102.html\n",
        "!source activate cdvae && pip install torch-spline-conv==1.2.1 -f https://data.pyg.org/whl/torch-1.9.0+cu102.html\n",
        "!source activate cdvae && pip install torch-scatter==2.0.9 -f https://data.pyg.org/whl/torch-1.9.0+cu102.html\n",
        "#torch-sparse was 0.6.17 torch scatter was 2.1.1... IDK why, but torch scatter needed to be updated for cuda version"
      ]
    },
    {
      "cell_type": "markdown",
      "metadata": {
        "id": "D8HbcOEZJ90Y"
      },
      "source": [
        "# **Testing**# Below this section will be all testing of the code\n"
      ]
    },
    {
      "cell_type": "markdown",
      "metadata": {
        "id": "XuuTAgrOcq-7"
      },
      "source": [
        "Possible issue regarding time to train (~44 minutes for Carbon and for all 6k training. Stopped afterwards, so probably longer including test and vals)"
      ]
    },
    {
      "cell_type": "code",
      "execution_count": null,
      "metadata": {
        "colab": {
          "base_uri": "https://localhost:8080/"
        },
        "id": "J5TOY4b-aNVm",
        "outputId": "4c6605e1-6669-4483-82f0-08f536a05b80"
      },
      "outputs": [
        {
          "output_type": "stream",
          "name": "stdout",
          "text": [
            "Traceback (most recent call last):\n",
            "  File \"/content/gdrive/MyDrive/Matsci/cdvae/run.py\", line 19, in <module>\n",
            "    from cdvae.common.utils import log_hyperparameters, PROJECT_ROOT\n",
            "  File \"/content/gdrive/MyDrive/Matsci/cdvae/cdvae/common/utils.py\", line 92, in <module>\n",
            "    PROJECT_ROOT: Path = Path(get_env(\"PROJECT_ROOT\"))\n",
            "  File \"/content/gdrive/MyDrive/Matsci/cdvae/cdvae/common/utils.py\", line 22, in get_env\n",
            "    raise KeyError(\n",
            "KeyError: 'PROJECT_ROOT not defined and no default value is present!'\n"
          ]
        }
      ],
      "source": [
        "!source activate cdvae && python /content/gdrive/MyDrive/Matsci/cdvae/run.py data=carbon expname=carbon\n",
        "#Try 1.5.9 torch cluster"
      ]
    },
    {
      "cell_type": "code",
      "source": [
        "#!git clone https://github.com/txie-93/cdvae"
      ],
      "metadata": {
        "id": "HP2IhiSfAgrr"
      },
      "execution_count": null,
      "outputs": []
    },
    {
      "cell_type": "code",
      "source": [],
      "metadata": {
        "id": "KcSG22uD3skA"
      },
      "execution_count": null,
      "outputs": []
    }
  ],
  "metadata": {
    "accelerator": "GPU",
    "colab": {
      "provenance": [],
      "include_colab_link": true
    },
    "kernelspec": {
      "display_name": "Python 3",
      "name": "python3"
    },
    "language_info": {
      "name": "python"
    }
  },
  "nbformat": 4,
  "nbformat_minor": 0
}